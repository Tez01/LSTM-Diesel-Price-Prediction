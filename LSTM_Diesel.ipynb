{
 "cells": [
  {
   "cell_type": "code",
   "execution_count": 49,
   "metadata": {},
   "outputs": [],
   "source": [
    "# Dependencies\n",
    "import tensorflow as tf # Tensorflow 1.2\n",
    "import pandas as pd\n",
    "import keras as k\n",
    "from keras.layers import  LSTM,Input,Dense\n",
    "from keras.layers import BatchNormalization as BN\n",
    "from keras.models import Model\n",
    "from sklearn.metrics import mean_squared_error\n",
    "from keras import losses\n",
    "from math import sqrt\n"
   ]
  },
  {
   "cell_type": "code",
   "execution_count": 111,
   "metadata": {},
   "outputs": [
    {
     "data": {
      "text/html": [
       "<div>\n",
       "<style scoped>\n",
       "    .dataframe tbody tr th:only-of-type {\n",
       "        vertical-align: middle;\n",
       "    }\n",
       "\n",
       "    .dataframe tbody tr th {\n",
       "        vertical-align: top;\n",
       "    }\n",
       "\n",
       "    .dataframe thead th {\n",
       "        text-align: right;\n",
       "    }\n",
       "</style>\n",
       "<table border=\"1\" class=\"dataframe\">\n",
       "  <thead>\n",
       "    <tr style=\"text-align: right;\">\n",
       "      <th></th>\n",
       "      <th>Delhi</th>\n",
       "      <th>Foreign Exchange Rate</th>\n",
       "      <th>Crude Oil Price</th>\n",
       "    </tr>\n",
       "    <tr>\n",
       "      <th>Date</th>\n",
       "      <th></th>\n",
       "      <th></th>\n",
       "      <th></th>\n",
       "    </tr>\n",
       "  </thead>\n",
       "  <tbody>\n",
       "    <tr>\n",
       "      <th>01-01-2003</th>\n",
       "      <td>19.47</td>\n",
       "      <td>48.01</td>\n",
       "      <td>29.59</td>\n",
       "    </tr>\n",
       "    <tr>\n",
       "      <th>02-01-2003</th>\n",
       "      <td>19.47</td>\n",
       "      <td>48.05</td>\n",
       "      <td>29.59</td>\n",
       "    </tr>\n",
       "    <tr>\n",
       "      <th>03-01-2003</th>\n",
       "      <td>19.07</td>\n",
       "      <td>48.00</td>\n",
       "      <td>29.59</td>\n",
       "    </tr>\n",
       "    <tr>\n",
       "      <th>04-01-2003</th>\n",
       "      <td>19.07</td>\n",
       "      <td>48.00</td>\n",
       "      <td>29.59</td>\n",
       "    </tr>\n",
       "    <tr>\n",
       "      <th>05-01-2003</th>\n",
       "      <td>19.07</td>\n",
       "      <td>48.00</td>\n",
       "      <td>29.59</td>\n",
       "    </tr>\n",
       "  </tbody>\n",
       "</table>\n",
       "</div>"
      ],
      "text/plain": [
       "            Delhi  Foreign Exchange Rate  Crude Oil Price\n",
       "Date                                                     \n",
       "01-01-2003  19.47                  48.01            29.59\n",
       "02-01-2003  19.47                  48.05            29.59\n",
       "03-01-2003  19.07                  48.00            29.59\n",
       "04-01-2003  19.07                  48.00            29.59\n",
       "05-01-2003  19.07                  48.00            29.59"
      ]
     },
     "execution_count": 111,
     "metadata": {},
     "output_type": "execute_result"
    }
   ],
   "source": [
    "# Data Preprocessing\n",
    "\n",
    "df=pd.read_csv('diesel.csv')\n",
    "df.set_index('Date',inplace=True)\n",
    "df.head()\n"
   ]
  },
  {
   "cell_type": "code",
   "execution_count": 3,
   "metadata": {},
   "outputs": [],
   "source": [
    "data=df.drop(['Delhi','Crude Oil Price'],axis=1)"
   ]
  },
  {
   "cell_type": "code",
   "execution_count": 4,
   "metadata": {},
   "outputs": [
    {
     "data": {
      "text/html": [
       "<div>\n",
       "<style scoped>\n",
       "    .dataframe tbody tr th:only-of-type {\n",
       "        vertical-align: middle;\n",
       "    }\n",
       "\n",
       "    .dataframe tbody tr th {\n",
       "        vertical-align: top;\n",
       "    }\n",
       "\n",
       "    .dataframe thead th {\n",
       "        text-align: right;\n",
       "    }\n",
       "</style>\n",
       "<table border=\"1\" class=\"dataframe\">\n",
       "  <thead>\n",
       "    <tr style=\"text-align: right;\">\n",
       "      <th></th>\n",
       "      <th>Outputs</th>\n",
       "      <th>Inputs</th>\n",
       "    </tr>\n",
       "    <tr>\n",
       "      <th>Date</th>\n",
       "      <th></th>\n",
       "      <th></th>\n",
       "    </tr>\n",
       "  </thead>\n",
       "  <tbody>\n",
       "    <tr>\n",
       "      <th>01-01-2003</th>\n",
       "      <td>48.01</td>\n",
       "      <td>0.00</td>\n",
       "    </tr>\n",
       "    <tr>\n",
       "      <th>02-01-2003</th>\n",
       "      <td>48.05</td>\n",
       "      <td>48.01</td>\n",
       "    </tr>\n",
       "    <tr>\n",
       "      <th>03-01-2003</th>\n",
       "      <td>48.00</td>\n",
       "      <td>48.05</td>\n",
       "    </tr>\n",
       "    <tr>\n",
       "      <th>04-01-2003</th>\n",
       "      <td>48.00</td>\n",
       "      <td>48.00</td>\n",
       "    </tr>\n",
       "    <tr>\n",
       "      <th>05-01-2003</th>\n",
       "      <td>48.00</td>\n",
       "      <td>48.00</td>\n",
       "    </tr>\n",
       "  </tbody>\n",
       "</table>\n",
       "</div>"
      ],
      "text/plain": [
       "            Outputs  Inputs\n",
       "Date                       \n",
       "01-01-2003    48.01    0.00\n",
       "02-01-2003    48.05   48.01\n",
       "03-01-2003    48.00   48.05\n",
       "04-01-2003    48.00   48.00\n",
       "05-01-2003    48.00   48.00"
      ]
     },
     "execution_count": 4,
     "metadata": {},
     "output_type": "execute_result"
    }
   ],
   "source": [
    "#Make Sequences by shifting the Foreign Exchange Rate by 1 unit.\n",
    "Inputs=data['Foreign Exchange Rate'].shift(1,fill_value=0)\n",
    "data.loc[:,'Inputs']=Inputs\n",
    "data.rename(columns={'Foreign Exchange Rate':'Outputs'},inplace=True)\n",
    "data.head()\n"
   ]
  },
  {
   "cell_type": "code",
   "execution_count": 113,
   "metadata": {},
   "outputs": [
    {
     "data": {
      "text/plain": [
       "[<matplotlib.lines.Line2D at 0x244c2df1c18>]"
      ]
     },
     "execution_count": 113,
     "metadata": {},
     "output_type": "execute_result"
    },
    {
     "data": {
      "image/png": "[encoded data removed]",
      "text/plain": [
       "<Figure size 432x288 with 1 Axes>"
      ]
     },
     "metadata": {
      "needs_background": "light"
     },
     "output_type": "display_data"
    }
   ],
   "source": [
    "# Data Plotting\n",
    "from matplotlib import pyplot as plt\n",
    "plt.plot(data.iloc[:,0])\n"
   ]
  },
  {
   "cell_type": "code",
   "execution_count": 43,
   "metadata": {},
   "outputs": [
    {
     "name": "stdout",
     "output_type": "stream",
     "text": [
      "(1057, 90, 1) (1057, 1)\n"
     ]
    }
   ],
   "source": [
    "X=[]\n",
    "Y=[]\n",
    "import numpy as np\n",
    "for i in range(int((len(data)-90)/5)):\n",
    "    slice_x=data.iloc[5*i:(5*i+90),1]\n",
    "    X.append(list(slice_x))\n",
    "    slice_y=[(data.iloc[5*i+90,0])]\n",
    "    Y.append(slice_y)\n",
    "    \n",
    "X=np.array(X)\n",
    "Y=np.array(Y)\n",
    "#Reshaping to (samples,timesteps,features)\n",
    "X=np.reshape(X,(1057,90,1))\n",
    "Y=np.reshape(Y,(1057,1))    \n",
    "\n",
    "print(X.shape,Y.shape)\n",
    "\n",
    "\n",
    "\n",
    "\n",
    "\n",
    "    "
   ]
  },
  {
   "cell_type": "code",
   "execution_count": 85,
   "metadata": {},
   "outputs": [
    {
     "data": {
      "text/plain": [
       "' Use of recurrent_initializer: For tanh-use lecun_normal[1]\\n Use of kernel_initializer: For Sigmoid use: he_normal[2]\\n[1] Klambauer, G., Unterthiner, T., Mayr, A., & Hochreiter, S. (2017). Self-normalizing neural networks. In Advances in neural information processing systems (pp. 971-980).\\n[2] [He, K., Zhang, X., Ren, S., & Sun, J. (2015). Delving deep into rectifiers: Surpassing human-level performance on imagenet classification. In Proceedings of the IEEE international conference on computer vision (pp. 1026-1034).]'"
      ]
     },
     "execution_count": 85,
     "metadata": {},
     "output_type": "execute_result"
    }
   ],
   "source": [
    "''' Model building phase \n",
    "Using Keras (tensorflow backend), Functional API\n",
    "1. Creating LSTM with 50 neurons, 4 hidden layers.'''\n",
    "\n",
    "inputs=Input(shape=(90,1))\n",
    "x=BN(axis=-1)(inputs)\n",
    "# Adding LSTM\n",
    "x=LSTM(units=50,activation='tanh',recurrent_activation='hard_sigmoid',use_bias=True,recurrent_initializer='he_normal',name='piku',kernel_initializer='lecun_normal',return_sequences=True)(inputs)\n",
    "x=LSTM(units=50,activation='tanh',recurrent_activation='hard_sigmoid',use_bias=True,recurrent_initializer='he_normal',kernel_initializer='lecun_normal',return_sequences=True)(x)\n",
    "x=LSTM(units=50,activation='tanh',recurrent_activation='hard_sigmoid',use_bias=True,recurrent_initializer='he_normal',kernel_initializer='lecun_normal',return_sequences=True)(x)\n",
    "x=LSTM(units=50,activation='tanh',recurrent_activation='hard_sigmoid',use_bias=True,recurrent_initializer='he_normal',kernel_initializer='lecun_normal',return_sequences=False)(x)\n",
    "x=Dense(10,activation='relu')(x)\n",
    "# Output layer\n",
    "prediction=Dense(1,activation=None)(x)\n",
    "model=Model(inputs=inputs,outputs=prediction)\n",
    "\n",
    "\n",
    "       \n",
    "''' Use of recurrent_initializer: For tanh-use lecun_normal[1]\n",
    " Use of kernel_initializer: For Sigmoid use: he_normal[2]\n",
    "[1] Klambauer, G., Unterthiner, T., Mayr, A., & Hochreiter, S. (2017). Self-normalizing neural networks. In Advances in neural information processing systems (pp. 971-980).\n",
    "[2] [He, K., Zhang, X., Ren, S., & Sun, J. (2015). Delving deep into rectifiers: Surpassing human-level performance on imagenet classification. In Proceedings of the IEEE international conference on computer vision (pp. 1026-1034).]'''"
   ]
  },
  {
   "cell_type": "code",
   "execution_count": 88,
   "metadata": {},
   "outputs": [
    {
     "name": "stdout",
     "output_type": "stream",
     "text": [
      "Train on 951 samples, validate on 106 samples\n",
      "Epoch 1/10\n",
      "951/951 [==============================] - 29s 31ms/step - loss: 20.6807 - acc: 0.0000e+00 - val_loss: 18.4800 - val_acc: 0.0000e+00\n",
      "Epoch 2/10\n",
      "951/951 [==============================] - 16s 17ms/step - loss: 6.0565 - acc: 0.0000e+00 - val_loss: 18.5273 - val_acc: 0.0000e+00\n",
      "Epoch 3/10\n",
      "951/951 [==============================] - 16s 17ms/step - loss: 5.9651 - acc: 0.0000e+00 - val_loss: 19.7891 - val_acc: 0.0000e+00\n",
      "Epoch 4/10\n",
      "951/951 [==============================] - 14s 15ms/step - loss: 5.8958 - acc: 0.0011 - val_loss: 19.9856 - val_acc: 0.0000e+00\n",
      "Epoch 5/10\n",
      "951/951 [==============================] - 16s 17ms/step - loss: 5.8629 - acc: 0.0011 - val_loss: 19.6158 - val_acc: 0.0000e+00\n",
      "Epoch 6/10\n",
      "951/951 [==============================] - 16s 16ms/step - loss: 5.8545 - acc: 0.0000e+00 - val_loss: 19.9308 - val_acc: 0.0000e+00\n",
      "Epoch 7/10\n",
      "951/951 [==============================] - 16s 17ms/step - loss: 5.8291 - acc: 0.0011 - val_loss: 19.5519 - val_acc: 0.0000e+00\n",
      "Epoch 8/10\n",
      "951/951 [==============================] - 16s 17ms/step - loss: 5.7878 - acc: 0.0011 - val_loss: 19.3214 - val_acc: 0.0000e+00\n",
      "Epoch 9/10\n",
      "951/951 [==============================] - 16s 16ms/step - loss: 5.7191 - acc: 0.0011 - val_loss: 18.9434 - val_acc: 0.0000e+00\n",
      "Epoch 10/10\n",
      "951/951 [==============================] - 16s 16ms/step - loss: 5.5651 - acc: 0.0011 - val_loss: 18.6280 - val_acc: 0.0000e+00\n"
     ]
    }
   ],
   "source": [
    "# Compilation and training\n",
    "#Using Root Mean square error\n",
    "import keras.backend as K\n",
    "def rmse(y_true,y_pred):\n",
    "    loss=K.sqrt(K.mean(K.square(y_pred - y_true), axis=-1))\n",
    "    return loss\n",
    "model.compile(optimizer='adam',loss=rmse,metrics=['accuracy'])\n",
    "hist=model.fit(x=X,y=Y,batch_size=100,epochs=10,validation_split=0.1)"
   ]
  },
  {
   "cell_type": "code",
   "execution_count": 109,
   "metadata": {},
   "outputs": [
    {
     "data": {
      "image/png": "[encoded data removed]",
      "text/plain": [
       "<Figure size 432x288 with 1 Axes>"
      ]
     },
     "metadata": {
      "needs_background": "light"
     },
     "output_type": "display_data"
    }
   ],
   "source": [
    "# Plotting loss\n",
    "from matplotlib import pyplot as plt\n",
    "plt.plot(hist.history['loss'])\n",
    "plt.title('Model Loss')\n",
    "plt.xlabel('Epoch')\n",
    "plt.ylabel('Loss')\n",
    "plt.show()\n"
   ]
  },
  {
   "cell_type": "code",
   "execution_count": 94,
   "metadata": {},
   "outputs": [],
   "source": [
    "#Prediction\n",
    "Actual=[]\n",
    "Prediction=[]\n",
    "for i in range(20):\n",
    "    \n",
    "    Actual.append(data.iloc[i*90+90,0])\n",
    "    \n",
    "    Prediction.append(model.predict(np.resize(data.iloc[i*90:i*90+90,1],(1,90,1))))\n",
    "    "
   ]
  },
  {
   "cell_type": "code",
   "execution_count": 95,
   "metadata": {},
   "outputs": [
    {
     "data": {
      "text/plain": [
       "[47.46,\n",
       " 46.44,\n",
       " 45.84,\n",
       " 45.53,\n",
       " 44.7,\n",
       " 45.67,\n",
       " 45.79,\n",
       " 43.86,\n",
       " 43.61,\n",
       " 43.53,\n",
       " 43.81,\n",
       " 45.3,\n",
       " 44.13,\n",
       " 45.81,\n",
       " 46.17,\n",
       " 44.52,\n",
       " 44.17,\n",
       " 40.48,\n",
       " 40.53,\n",
       " 39.22]"
      ]
     },
     "execution_count": 95,
     "metadata": {},
     "output_type": "execute_result"
    }
   ],
   "source": [
    "Actual"
   ]
  },
  {
   "cell_type": "code",
   "execution_count": 105,
   "metadata": {},
   "outputs": [],
   "source": [
    "Prediction=np.reshape(Prediction,(20,1)) # As output from predict is an array of shape (20,)\n",
    "plt.plot()"
   ]
  },
  {
   "cell_type": "code",
   "execution_count": 106,
   "metadata": {},
   "outputs": [
    {
     "data": {
      "image/png": "[encoded data removed]",
      "text/plain": [
       "<Figure size 432x288 with 1 Axes>"
      ]
     },
     "metadata": {
      "needs_background": "light"
     },
     "output_type": "display_data"
    }
   ],
   "source": [
    "# Visualization of results: actual vs predicted\n",
    "\n",
    "plt.plot(Actual)\n",
    "plt.plot(Prediction)\n",
    "plt.xlabel()\n",
    "plt.show()"
   ]
  },
  {
   "cell_type": "code",
   "execution_count": null,
   "metadata": {},
   "outputs": [],
   "source": [
    "# Possible Issues:\n",
    "# 1.Overfitting of model\n",
    "# 2. High\n",
    "\n",
    "# To Do: \n",
    "#1. Change learning Rate\n",
    "#2. Change number of epochs abd batch_size\n",
    "#3. Batch Normalize after each layer.\n",
    "#4. Change distribution of data and data augmentation."
   ]
  },
  {
   "cell_type": "code",
   "execution_count": null,
   "metadata": {},
   "outputs": [],
   "source": []
  }
 ],
 "metadata": {
  "kernelspec": {
   "display_name": "Python 3",
   "language": "python",
   "name": "python3"
  },
  "language_info": {
   "codemirror_mode": {
    "name": "ipython",
    "version": 3
   },
   "file_extension": ".py",
   "mimetype": "text/x-python",
   "name": "python",
   "nbconvert_exporter": "python",
   "pygments_lexer": "ipython3",
   "version": "3.6.6"
  }
 },
 "nbformat": 4,
 "nbformat_minor": 2
}
